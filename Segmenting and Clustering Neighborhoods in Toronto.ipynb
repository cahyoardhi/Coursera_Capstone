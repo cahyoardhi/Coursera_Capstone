{
 "cells": [
  {
   "cell_type": "markdown",
   "metadata": {},
   "source": [
    "<h1 style='text-align: center;'>Segmenting and Clustering Neighborhoods in Toronto</h1>"
   ]
  },
  {
   "cell_type": "code",
   "execution_count": 103,
   "metadata": {},
   "outputs": [],
   "source": [
    "#import module that used in this case\n",
    "import requests\n",
    "from bs4 import BeautifulSoup\n",
    "import pandas as pd\n",
    "import numpy as np"
   ]
  },
  {
   "cell_type": "code",
   "execution_count": 36,
   "metadata": {},
   "outputs": [],
   "source": [
    "#crawling data from wikipedia page\n",
    "url         = 'https://en.wikipedia.org/wiki/List_of_postal_codes_of_Canada:_M'\n",
    "response    = requests.get(url)\n",
    "\n",
    "soup        = BeautifulSoup(response.text, 'lxml')"
   ]
  },
  {
   "cell_type": "code",
   "execution_count": 39,
   "metadata": {},
   "outputs": [],
   "source": [
    "#find table that we wanted\n",
    "table       = soup.find('table', attrs={'class':'wikitable sortable'})"
   ]
  },
  {
   "cell_type": "code",
   "execution_count": 142,
   "metadata": {},
   "outputs": [],
   "source": [
    "#iterate over row and append it to our list, then create a dataframe\n",
    "postal_code = []\n",
    "borough     = []\n",
    "neighborhood= []\n",
    "\n",
    "for row in table.findAll('tr'):\n",
    "    col = row.findAll('td')\n",
    "    if len(col) == 3:\n",
    "        postal_code.append(col[0].find(text=True).replace('\\n',''))\n",
    "        borough.append(col[1].find(text=True).replace('\\n',''))\n",
    "        neighborhood.append(col[2].find(text=True).replace('\\n',''))\n",
    "\n",
    "dataframe = {'postal_code': postal_code, 'borough': borough, 'neighborhood': neighborhood}\n",
    "df  = pd.DataFrame(dataframe)\n",
    "\n",
    "pd.set_option('display.max_columns', None)\n",
    "pd.set_option('display.max_row', None)"
   ]
  },
  {
   "cell_type": "code",
   "execution_count": 143,
   "metadata": {},
   "outputs": [],
   "source": [
    "#replace not assigned as nan then drop it\n",
    "df['borough'].replace('Not assigned',np.nan, inplace=True)\n",
    "df.dropna(axis=0, inplace=True)"
   ]
  },
  {
   "cell_type": "code",
   "execution_count": 146,
   "metadata": {},
   "outputs": [
    {
     "output_type": "execute_result",
     "data": {
      "text/plain": "Downsview                                                                                                                                 4\nDon Mills                                                                                                                                 2\nDel Ray, Mount Dennis, Keelsdale and Silverthorn                                                                                          1\nChristie                                                                                                                                  1\nDorset Park, Wexford Heights, Scarborough Town Centre                                                                                     1\nUniversity of Toronto, Harbord                                                                                                            1\nGuildwood, Morningside, West Hill                                                                                                         1\nHumewood-Cedarvale                                                                                                                        1\nBathurst Manor, Wilson Heights, Downsview North                                                                                           1\nEringate, Bloordale Gardens, Old Burnhamthorpe, Markland Wood                                                                             1\nVictoria Village                                                                                                                          1\nIslington Avenue, Humber Valley Village                                                                                                   1\nSouth Steeles, Silverstone, Humbergate, Jamestown, Mount Olive, Beaumond Heights, Thistletown, Albion Gardens                             1\nForest Hill North & West, Forest Hill Road Park                                                                                           1\nThe Kingsway, Montgomery Road, Old Mill North                                                                                             1\nWestmount                                                                                                                                 1\nMilliken, Agincourt North, Steeles East, L'Amoreaux East                                                                                  1\nMalvern, Rouge                                                                                                                            1\nBerczy Park                                                                                                                               1\nLeaside                                                                                                                                   1\nNorth Toronto West,  Lawrence Park                                                                                                        1\nBusiness reply mail Processing Centre, South Central Letter Processing Plant Toronto                                                      1\nParkview Hill, Woodbine Gardens                                                                                                           1\nRichmond, Adelaide, King                                                                                                                  1\nMoore Park, Summerhill East                                                                                                               1\nHillcrest Village                                                                                                                         1\nSt. James Town, Cabbagetown                                                                                                               1\nRegent Park, Harbourfront                                                                                                                 1\nRosedale                                                                                                                                  1\nYork Mills West                                                                                                                           1\nStudio District                                                                                                                           1\nMimico NW, The Queensway West, South of Bloor, Kingsway Park South West, Royal York South West                                            1\nLawrence Manor, Lawrence Heights                                                                                                          1\nWillowdale, Newtonbrook                                                                                                                   1\nSteeles West, L'Amoreaux West                                                                                                             1\nSummerhill West, Rathnelly, South Hill, Forest Hill SE, Deer Park                                                                         1\nKennedy Park, Ionview, East Birchmount Park                                                                                               1\nSt. James Town                                                                                                                            1\nHumber Summit                                                                                                                             1\nWoburn                                                                                                                                    1\nFairview, Henry Farm, Oriole                                                                                                              1\nAlderwood, Long Branch                                                                                                                    1\nCedarbrae                                                                                                                                 1\nBrockton, Parkdale Village, Exhibition Place                                                                                              1\nNew Toronto, Mimico South, Humber Bay Shores                                                                                              1\nRunnymede, The Junction North                                                                                                             1\nLawrence Park                                                                                                                             1\nRouge Hill, Port Union, Highland Creek                                                                                                    1\nParkdale, Roncesvalles                                                                                                                    1\nThorncliffe Park                                                                                                                          1\nCanada Post Gateway Processing Centre                                                                                                     1\nRoselawn                                                                                                                                  1\nNorthwest, West Humber - Clairville                                                                                                       1\nIndia Bazaar, The Beaches West                                                                                                            1\nThe Annex, North Midtown, Yorkville                                                                                                       1\nGolden Mile, Clairlea, Oakridge                                                                                                           1\nWillowdale, Willowdale East                                                                                                               1\nClarks Corners, Tam O'Shanter, Sullivan                                                                                                   1\nAgincourt                                                                                                                                 1\nUpper Rouge                                                                                                                               1\nCN Tower, King and Spadina, Railway Lands, Harbourfront West, Bathurst Quay, South Niagara, Island airport                                1\nChurch and Wellesley                                                                                                                      1\nHumberlea, Emery                                                                                                                          1\nWeston                                                                                                                                    1\nLittle Portugal, Trinity                                                                                                                  1\nOld Mill South, King's Mill Park, Sunnylea, Humber Bay, Mimico NE, The Queensway East, Royal York South East, Kingsway Park South East    1\nQueen's Park, Ontario Provincial Government                                                                                               1\nKensington Market, Chinatown, Grange Park                                                                                                 1\nYork Mills, Silver Hills                                                                                                                  1\nFirst Canadian Place, Underground city                                                                                                    1\nDavisville North                                                                                                                          1\nThe Beaches                                                                                                                               1\nDufferin, Dovercourt Village                                                                                                              1\nBayview Village                                                                                                                           1\nEast Toronto, Broadview North (Old East York)                                                                                             1\nWexford, Maryvale                                                                                                                         1\nWest Deane Park, Princess Gardens, Martin Grove, Islington, Cloverdale                                                                    1\nGlencairn                                                                                                                                 1\nDavisville                                                                                                                                1\nToronto Dominion Centre, Design Exchange                                                                                                  1\nCliffside, Cliffcrest, Scarborough Village West                                                                                           1\nWoodbine Heights                                                                                                                          1\nParkwoods                                                                                                                                 1\nWillowdale, Willowdale West                                                                                                               1\nCaledonia-Fairbanks                                                                                                                       1\nScarborough Village                                                                                                                       1\nNorthwood Park, York University                                                                                                           1\nThe Danforth West, Riverdale                                                                                                              1\nBedford Park, Lawrence Manor East                                                                                                         1\nGarden District, Ryerson                                                                                                                  1\nNorth Park, Maple Leaf Park, Upwood Park                                                                                                  1\nStn A PO Boxes                                                                                                                            1\nCentral Bay Street                                                                                                                        1\nKingsview Village, St. Phillips, Martin Grove Gardens, Richview Gardens                                                                   1\nHigh Park, The Junction South                                                                                                             1\nBirch Cliff, Cliffside West                                                                                                               1\nCommerce Court, Victoria Hotel                                                                                                            1\nHarbourfront East, Union Station, Toronto Islands                                                                                         1\nRunnymede, Swansea                                                                                                                        1\nName: neighborhood, dtype: int64"
     },
     "metadata": {},
     "execution_count": 146
    }
   ],
   "source": [
    "#check neighborhood column is there a null column\n",
    "df['neighborhood'].value_counts()"
   ]
  },
  {
   "cell_type": "code",
   "execution_count": 141,
   "metadata": {},
   "outputs": [
    {
     "output_type": "execute_result",
     "data": {
      "text/plain": "(103, 3)"
     },
     "metadata": {},
     "execution_count": 141
    }
   ],
   "source": [
    "#check our dataframe shape\n",
    "df.shape"
   ]
  }
 ],
 "metadata": {
  "language_info": {
   "codemirror_mode": {
    "name": "ipython",
    "version": 3
   },
   "file_extension": ".py",
   "mimetype": "text/x-python",
   "name": "python",
   "nbconvert_exporter": "python",
   "pygments_lexer": "ipython3",
   "version": "3.7.7-final"
  },
  "orig_nbformat": 2,
  "kernelspec": {
   "name": "python3",
   "display_name": "Python 3"
  }
 },
 "nbformat": 4,
 "nbformat_minor": 2
}